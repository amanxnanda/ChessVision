{
 "cells": [
  {
   "cell_type": "markdown",
   "metadata": {},
   "source": [
    "## Prediction Logic Experiments\n",
    "\n",
    "+ get image (known faulty, or random)\n",
    "+ extract board\n",
    "+ get raw predictions\n",
    "+ plot raw\n",
    "+ print board (ASCII)"
   ]
  },
  {
   "cell_type": "code",
   "execution_count": 1,
   "metadata": {},
   "outputs": [
    {
     "name": "stdout",
     "output_type": "stream",
     "text": [
      "Loading board extraction model..\n",
      "Loading board extraction model.. DONE\n"
     ]
    }
   ],
   "source": [
    "#from chessvision import classify_raw, load_models\n",
    "from u_net import load_extractor\n",
    "from square_classifier import build_square_classifier, load_classifier\n",
    "\n",
    "board_model = load_extractor()\n",
    "square_model = build_square_classifier()\n",
    "square_model.load_weights(\"../../weights/best_weights_square.hdf5\")"
   ]
  },
  {
   "cell_type": "markdown",
   "metadata": {},
   "source": [
    "Get predictions + names -- (64 x 13) + (64 x 1)\n",
    "\n",
    "Apply logic function"
   ]
  },
  {
   "cell_type": "code",
   "execution_count": 2,
   "metadata": {},
   "outputs": [
    {
     "name": "stdout",
     "output_type": "stream",
     "text": [
      "(10, 256, 256, 3)\n"
     ]
    }
   ],
   "source": [
    "from util import listdir_nohidden\n",
    "import cv2\n",
    "import numpy as np\n",
    "\n",
    "num_boards = 10\n",
    "\n",
    "raw_dir = \"../../data/raw/\"\n",
    "raw_imgs = listdir_nohidden(raw_dir)\n",
    "\n",
    "raw_batch = np.random.choice(raw_imgs, num_boards)\n",
    "raw_batch = list(map(lambda f: cv2.imread(raw_dir + f), raw_batch))\n",
    "resized_batch = np.array(list(map(lambda im: cv2.resize(im, (256, 256), interpolation=cv2.INTER_AREA), raw_batch)))\n",
    "print(resized_batch.shape)"
   ]
  },
  {
   "cell_type": "code",
   "execution_count": 3,
   "metadata": {},
   "outputs": [
    {
     "name": "stdout",
     "output_type": "stream",
     "text": [
      "Extracting board..\n",
      "Extracting board.. DONE\n"
     ]
    },
    {
     "data": {
      "text/plain": [
       "<Figure size 640x480 with 1 Axes>"
      ]
     },
     "metadata": {},
     "output_type": "display_data"
    }
   ],
   "source": [
    "from board_extractor import extract_board\n",
    "import matplotlib.pyplot as plt\n",
    "\n",
    "i=6\n",
    "board = extract_board(resized_batch[i], raw_batch[i], board_model)\n",
    "\n",
    "plt.imshow(board, cmap=\"gray\")\n",
    "plt.axis(\"off\")\n",
    "plt.show()"
   ]
  },
  {
   "cell_type": "code",
   "execution_count": 4,
   "metadata": {},
   "outputs": [
    {
     "ename": "NameError",
     "evalue": "name 'classify_board' is not defined",
     "output_type": "error",
     "traceback": [
      "\u001b[0;31m---------------------------------------------------------------------------\u001b[0m",
      "\u001b[0;31mNameError\u001b[0m                                 Traceback (most recent call last)",
      "\u001b[0;32m<ipython-input-4-ae9f593a3c7e>\u001b[0m in \u001b[0;36m<module>\u001b[0;34m()\u001b[0m\n\u001b[1;32m      1\u001b[0m \u001b[0;32mimport\u001b[0m \u001b[0mchess\u001b[0m\u001b[0;34m\u001b[0m\u001b[0m\n\u001b[1;32m      2\u001b[0m \u001b[0;34m\u001b[0m\u001b[0m\n\u001b[0;32m----> 3\u001b[0;31m \u001b[0mFEN\u001b[0m\u001b[0;34m,\u001b[0m \u001b[0mpred\u001b[0m\u001b[0;34m,\u001b[0m \u001b[0mnames\u001b[0m\u001b[0;34m,\u001b[0m \u001b[0mchessboard\u001b[0m \u001b[0;34m=\u001b[0m \u001b[0mclassify_board\u001b[0m\u001b[0;34m(\u001b[0m\u001b[0mboard\u001b[0m\u001b[0;34m,\u001b[0m \u001b[0msquare_model\u001b[0m\u001b[0;34m)\u001b[0m\u001b[0;34m\u001b[0m\u001b[0m\n\u001b[0m\u001b[1;32m      4\u001b[0m \u001b[0;34m\u001b[0m\u001b[0m\n\u001b[1;32m      5\u001b[0m \u001b[0mprint\u001b[0m\u001b[0;34m(\u001b[0m\u001b[0mchessboard\u001b[0m\u001b[0;34m)\u001b[0m\u001b[0;34m\u001b[0m\u001b[0m\n",
      "\u001b[0;31mNameError\u001b[0m: name 'classify_board' is not defined"
     ]
    }
   ],
   "source": [
    "import chess\n",
    "from chessvision import classi\n",
    "\n",
    "FEN, pred, names, chessboard = classify_board(board, square_model)\n",
    "\n",
    "print(chessboard)"
   ]
  },
  {
   "cell_type": "code",
   "execution_count": 8,
   "metadata": {},
   "outputs": [],
   "source": [
    "## Taken from board_classifier.py\n",
    "\n",
    "def classify_board(board_img, model):\n",
    "    print(\"Classifying board..\")\n",
    "    squares, names = extract_squares(board_img)\n",
    "    \n",
    "    predictions = model.predict(squares)\n",
    "    print(predictions)\n",
    "    \n",
    "    chessboard = classification_logic(predictions, names)\n",
    "        \n",
    "    FEN = chessboard.board_fen(promoted=False)\n",
    "    print(\"Classifying board.. DONE\")\n",
    "    \n",
    "    return FEN, predictions, squares, chessboard\n",
    "\n",
    "def classification_logic(probs, names):\n",
    "    \n",
    "    initial_predictions = np.argmax(probs, axis=1)\n",
    "\n",
    "    label_names  = ['B', 'K', 'N', 'P', 'Q', 'R', 'b', 'k', 'n', 'p', 'q', 'r', 'f']\n",
    "\n",
    "    pred_labels = [label_names[p] for p in initial_predictions]\n",
    "\n",
    "    pred_labels = check_multiple_kings(pred_labels, probs)\n",
    "    pred_labels = check_bishops(pred_labels, probs, names)\n",
    "    pred_labels = check_pawns_not_on_first_rank(pred_labels, probs, names)\n",
    "    \n",
    "    board = build_board_from_labels(pred_labels, names)\n",
    "    \n",
    "    return board\n",
    "\n",
    "def check_multiple_kings(pred_labels, probs):\n",
    "    if pred_labels.count(\"k\") > 1:\n",
    "        print(\"Predicted more than two black kings!\")\n",
    "        # all but the most likely black king gets switched to the second most likely piece\n",
    "    if pred_labels.count(\"K\") > 1:\n",
    "        print(\"Predicted more than two white kings!\")\n",
    "        # all but the most likely white king gets switched to the second most likely piece\n",
    "    return pred_labels\n",
    "\n",
    "def check_bishops(pred_labels, probs, names):\n",
    "    # check if more than two dark/light bishops\n",
    "    # check if dark bishop on light square and vice versa\n",
    "    return pred_labels\n",
    "\n",
    "def check_pawns_not_on_first_rank(pred_labels, probs, names):\n",
    "    first_rank = [\"a1\", \"b1\", \"c1\", \"d1\", \"e1\", \"f1\", \"g1\", \"h1\"]\n",
    "    last_rank = [\"a8\", \"b8\", \"c8\", \"d8\", \"e8\", \"f8\", \"g8\", \"h8\"]\n",
    "\n",
    "    for label, name in zip(pred_labels, names):\n",
    "        if label == \"P\":\n",
    "            if name in first_rank:\n",
    "                print(\"White pawn on 1st rank!\")\n",
    "        if label == \"p\":\n",
    "            if name in last_rank:\n",
    "                print(\"Black pawn on 8th rank!\")\n",
    "\n",
    "    return pred_labels\n",
    "\n",
    "def build_board_from_labels(labels, names):\n",
    "    board = chess.BaseBoard(board_fen=None)\n",
    "    for pred_label, sq in zip(labels, names):\n",
    "        if pred_label == \"f\":\n",
    "            piece = None\n",
    "        else:\n",
    "            piece = chess.Piece.from_symbol(pred_label)\n",
    "        \n",
    "        square = chess.SQUARE_NAMES.index(sq)\n",
    "        board.set_piece_at(square, piece, promoted=False)\n",
    "    return board\n",
    "\n",
    "def extract_squares(board):\n",
    "    ranks = [\"a\", \"b\", \"c\", \"d\", \"e\", \"f\", \"g\", \"h\"]\n",
    "    files = [\"1\", \"2\", \"3\", \"4\", \"5\", \"6\", \"7\", \"8\"]\n",
    "    squares = []\n",
    "    names = []\n",
    "    ww, hh = board.shape\n",
    "    w = int(ww / 8)\n",
    "    h = int(hh / 8)\n",
    "\n",
    "    for i in range(8):\n",
    "        for j in range(8):\n",
    "            squares.append(board[i*w:(i+1)*w, j*h:(j+1)*h])\n",
    "            names.append(ranks[j]+files[7-i])\n",
    "    \n",
    "    squares = np.array(squares)\n",
    "    squares = np.expand_dims(squares, -1)\n",
    "    #squares = squares.reshape(squares.shape[0], 64, 64, 1)\n",
    "    \n",
    "    return squares, names"
   ]
  },
  {
   "cell_type": "code",
   "execution_count": null,
   "metadata": {},
   "outputs": [],
   "source": []
  }
 ],
 "metadata": {
  "kernelspec": {
   "display_name": "Python 3",
   "language": "python",
   "name": "python3"
  },
  "language_info": {
   "codemirror_mode": {
    "name": "ipython",
    "version": 3
   },
   "file_extension": ".py",
   "mimetype": "text/x-python",
   "name": "python",
   "nbconvert_exporter": "python",
   "pygments_lexer": "ipython3",
   "version": "3.5.5"
  }
 },
 "nbformat": 4,
 "nbformat_minor": 2
}
