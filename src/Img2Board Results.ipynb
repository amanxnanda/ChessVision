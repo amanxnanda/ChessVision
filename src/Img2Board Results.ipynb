{
 "cells": [
  {
   "cell_type": "code",
   "execution_count": 1,
   "metadata": {
    "collapsed": true
   },
   "outputs": [],
   "source": [
    "import cv2\n",
    "from util import listdir_nohidden\n",
    "import matplotlib.pyplot as plt\n",
    "import chess\n",
    "\n",
    "\n",
    "board_dir = \"../data/boards/\"\n",
    "board_filenames = listdir_nohidden(board_dir)\n",
    "\n",
    "results_dir = \"../data/results/\"\n",
    "results_filenames = list(map(lambda x: x[:-4]+\"_fen.txt\", board_filenames))\n",
    "\n",
    "board_filenames = listdir_nohidden(board_dir)\n",
    "board_imgs = [cv2.imread(board_dir+f, 0) for f in board_filenames]\n",
    "\n",
    "boards = []\n",
    "\n",
    "for fname in results_filenames:\n",
    "    with open(results_dir + fname, \"r\") as f:\n",
    "        fen = f.readline()\n",
    "        board = chess.BaseBoard(board_fen=fen)\n",
    "        boards.append(board)\n",
    "        "
   ]
  },
  {
   "cell_type": "code",
   "execution_count": 14,
   "metadata": {},
   "outputs": [],
   "source": [
    "from IPython.display import SVG\n",
    "import chess.svg\n",
    "\n",
    "svg_dir = \"../data/svgs/\"\n",
    "board_filenames = listdir_nohidden(board_dir)\n",
    "board_filenames = [f for f in board_filenames]\n",
    "for i in range(len(boards)):\n",
    "    #plt.imshow(board_imgs[i], cmap=\"gray\")\n",
    "    #plt.axis(\"off\")\n",
    "    #plt.show()\n",
    "\n",
    "    svg_obj = chess.svg.board(board=boards[i], coordinates=False, size=220)\n",
    "\n",
    "    #SVG(svg_obj)\n",
    "    fname = board_filenames[i]\n",
    "    \n",
    "    with open(svg_dir + fname[:-4]+\".svg\", \"w\") as f:\n",
    "        f.write(svg_obj)\n",
    "        "
   ]
  }
 ],
 "metadata": {
  "kernelspec": {
   "display_name": "Python 3",
   "language": "python",
   "name": "python3"
  },
  "language_info": {
   "codemirror_mode": {
    "name": "ipython",
    "version": 3
   },
   "file_extension": ".py",
   "mimetype": "text/x-python",
   "name": "python",
   "nbconvert_exporter": "python",
   "pygments_lexer": "ipython3",
   "version": "3.6.3"
  }
 },
 "nbformat": 4,
 "nbformat_minor": 2
}
