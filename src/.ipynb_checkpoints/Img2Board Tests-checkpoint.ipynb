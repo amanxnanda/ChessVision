{
 "cells": [
  {
   "cell_type": "code",
   "execution_count": null,
   "metadata": {
    "collapsed": true
   },
   "outputs": [],
   "source": [
    "import cv2\n",
    "from keras.models import load_model\n",
    "from extract_squares import extract_squares\n",
    "import numpy as np\n",
    "from util import listdir_nohidden\n",
    "import matplotlib.pyplot as plt\n",
    "\n",
    "board_dir = \"../data/Boards/\"\n",
    "\n",
    "board_filenames = listdir_nohidden(board_dir)\n",
    "\n",
    "board_imgs = [cv2.imread(board_dir+f, 0) for f in board_filenames]\n",
    "model = load_model('square_classifier_v1.h5')\n",
    "\n"
   ]
  }
 ],
 "metadata": {
  "kernelspec": {
   "display_name": "Python 3",
   "language": "python",
   "name": "python3"
  },
  "language_info": {
   "codemirror_mode": {
    "name": "ipython",
    "version": 3
   },
   "file_extension": ".py",
   "mimetype": "text/x-python",
   "name": "python",
   "nbconvert_exporter": "python",
   "pygments_lexer": "ipython3",
   "version": "3.6.3"
  }
 },
 "nbformat": 4,
 "nbformat_minor": 2
}
